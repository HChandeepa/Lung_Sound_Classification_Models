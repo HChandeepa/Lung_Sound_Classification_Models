{
  "nbformat": 4,
  "nbformat_minor": 0,
  "metadata": {
    "colab": {
      "provenance": [],
      "authorship_tag": "ABX9TyPs9GJ5X25nzzl8nhQcyjPf",
      "include_colab_link": true
    },
    "kernelspec": {
      "name": "python3",
      "display_name": "Python 3"
    },
    "language_info": {
      "name": "python"
    }
  },
  "cells": [
    {
      "cell_type": "markdown",
      "metadata": {
        "id": "view-in-github",
        "colab_type": "text"
      },
      "source": [
        "<a href=\"https://colab.research.google.com/github/HChandeepa/Lung_Sound_Classification_System/blob/Master/Audio_Segementation_and_Padding.ipynb\" target=\"_parent\"><img src=\"https://colab.research.google.com/assets/colab-badge.svg\" alt=\"Open In Colab\"/></a>"
      ]
    },
    {
      "cell_type": "code",
      "source": [
        "from google.colab import drive\n",
        "drive.mount('/content/drive')"
      ],
      "metadata": {
        "colab": {
          "base_uri": "https://localhost:8080/"
        },
        "id": "jLj2_GRQfCAO",
        "outputId": "f199750c-b37f-49c2-8a70-b7476b01f7c7"
      },
      "execution_count": null,
      "outputs": [
        {
          "output_type": "stream",
          "name": "stdout",
          "text": [
            "Mounted at /content/drive\n"
          ]
        }
      ]
    },
    {
      "cell_type": "markdown",
      "source": [
        "## Audio Segementation to 6s and Pad Shorter Segments"
      ],
      "metadata": {
        "id": "54QUPcKaeeAz"
      }
    },
    {
      "cell_type": "code",
      "source": [
        "!pip install pydub numpy"
      ],
      "metadata": {
        "colab": {
          "base_uri": "https://localhost:8080/"
        },
        "id": "eG23-fFIGBRs",
        "outputId": "907b70b0-1bab-48e7-de00-87bd7b82e3e4"
      },
      "execution_count": null,
      "outputs": [
        {
          "output_type": "stream",
          "name": "stdout",
          "text": [
            "Collecting pydub\n",
            "  Downloading pydub-0.25.1-py2.py3-none-any.whl.metadata (1.4 kB)\n",
            "Requirement already satisfied: numpy in /usr/local/lib/python3.10/dist-packages (1.26.4)\n",
            "Downloading pydub-0.25.1-py2.py3-none-any.whl (32 kB)\n",
            "Installing collected packages: pydub\n",
            "Successfully installed pydub-0.25.1\n"
          ]
        }
      ]
    },
    {
      "cell_type": "markdown",
      "source": [
        "### Asthma Segmentation"
      ],
      "metadata": {
        "id": "uoQovyKKKa2I"
      }
    },
    {
      "cell_type": "code",
      "execution_count": null,
      "metadata": {
        "colab": {
          "base_uri": "https://localhost:8080/"
        },
        "id": "IFeYoSBc1PR4",
        "outputId": "c694e8e1-4069-4bab-94f4-f208ac896792"
      },
      "outputs": [
        {
          "output_type": "stream",
          "name": "stdout",
          "text": [
            "Segmentation completed with padding for shorter segments.\n"
          ]
        }
      ],
      "source": [
        "from pydub import AudioSegment\n",
        "import os\n",
        "\n",
        "# Path to the directory containing the audio files\n",
        "input_dir = '/content/drive/MyDrive/Colab Notebooks/Datasets/Lung Sound Files/Asthma'\n",
        "output_dir = '/content/drive/MyDrive/Colab Notebooks/Datasets/Lung Sound Files Dataset/Asthma'\n",
        "\n",
        "# Create the output directory if it doesn't exist\n",
        "os.makedirs(output_dir, exist_ok=True)\n",
        "\n",
        "# Define the length of each segment (6 seconds)\n",
        "segment_length_ms = 6 * 1000  # pydub works in milliseconds\n",
        "\n",
        "# Loop through all audio files in the input directory\n",
        "for filename in os.listdir(input_dir):\n",
        "    if filename.endswith('.wav'): #only working with .wav files\n",
        "        audio = AudioSegment.from_wav(os.path.join(input_dir, filename))\n",
        "\n",
        "        # Convert to stereo if it's not\n",
        "        if audio.channels != 2:\n",
        "            audio = audio.set_channels(2)\n",
        "\n",
        "        # Resample to 44,100 Hz if needed\n",
        "        if audio.frame_rate != 44100:\n",
        "            audio = audio.set_frame_rate(44100)\n",
        "\n",
        "        # Set the sample width (bit depth) to 16-bit\n",
        "        audio = audio.set_sample_width(2)  # 16-bit audio has a sample width of 2 bytes\n",
        "\n",
        "        # Split the audio into 6-second segments\n",
        "        for i in range(0, len(audio), segment_length_ms):\n",
        "            segment = audio[i:i + segment_length_ms]\n",
        "\n",
        "            # If the segment is shorter than 6 seconds, pad it with silence\n",
        "            if len(segment) < segment_length_ms:\n",
        "                silence_padding = AudioSegment.silent(duration=segment_length_ms - len(segment))\n",
        "                segment += silence_padding\n",
        "\n",
        "            # Save each segment\n",
        "            segment_filename = f\"{os.path.splitext(filename)[0]}_segment_{i // segment_length_ms}.wav\"\n",
        "            segment.export(os.path.join(output_dir, segment_filename), format='wav')\n",
        "\n",
        "print(\"Segmentation completed with padding for shorter segments.\")\n"
      ]
    },
    {
      "cell_type": "code",
      "source": [
        "from pydub import AudioSegment\n",
        "import os\n",
        "\n",
        "# Path to the directory containing the audio files\n",
        "input_dir = '/content/drive/MyDrive/Colab Notebooks/Datasets/Lung Sound Files/Bronchiectasis'\n",
        "output_dir = '/content/drive/MyDrive/Colab Notebooks/Datasets/Lung Sound Files Dataset/Bronchiectasis'\n",
        "\n",
        "# Create the output directory if it doesn't exist\n",
        "os.makedirs(output_dir, exist_ok=True)\n",
        "\n",
        "# Define the length of each segment (6 seconds)\n",
        "segment_length_ms = 6 * 1000  # pydub works in milliseconds\n",
        "\n",
        "# Loop through all audio files in the input directory\n",
        "for filename in os.listdir(input_dir):\n",
        "    if filename.endswith('.wav'):  # Ensure you're only working with .wav files\n",
        "        audio = AudioSegment.from_wav(os.path.join(input_dir, filename))\n",
        "\n",
        "        # Convert to stereo if it's not\n",
        "        if audio.channels != 2:\n",
        "            audio = audio.set_channels(2)\n",
        "\n",
        "        # Resample to 44,100 Hz if needed\n",
        "        if audio.frame_rate != 44100:\n",
        "            audio = audio.set_frame_rate(44100)\n",
        "\n",
        "        # Set the sample width (bit depth) to 16-bit\n",
        "        audio = audio.set_sample_width(2)  # 16-bit audio has a sample width of 2 bytes\n",
        "\n",
        "        # Split the audio into 6-second segments\n",
        "        for i in range(0, len(audio), segment_length_ms):\n",
        "            segment = audio[i:i + segment_length_ms]\n",
        "\n",
        "            # If the segment is shorter than 6 seconds, pad it with silence\n",
        "            if len(segment) < segment_length_ms:\n",
        "                silence_padding = AudioSegment.silent(duration=segment_length_ms - len(segment))\n",
        "                segment += silence_padding\n",
        "\n",
        "            # Save each segment\n",
        "            segment_filename = f\"{os.path.splitext(filename)[0]}_segment_{i // segment_length_ms}.wav\"\n",
        "            segment.export(os.path.join(output_dir, segment_filename), format='wav')\n",
        "\n",
        "print(\"Segmentation completed with padding for shorter segments.\")\n"
      ],
      "metadata": {
        "colab": {
          "base_uri": "https://localhost:8080/"
        },
        "id": "YaX2TukgKoSI",
        "outputId": "c3aaee88-d9fa-4ca5-dbd6-f4ce262dba25"
      },
      "execution_count": null,
      "outputs": [
        {
          "output_type": "stream",
          "name": "stdout",
          "text": [
            "Segmentation completed with padding for shorter segments.\n"
          ]
        }
      ]
    },
    {
      "cell_type": "code",
      "source": [
        "from pydub import AudioSegment\n",
        "import os\n",
        "\n",
        "# Path to the directory containing the audio files\n",
        "input_dir = '/content/drive/MyDrive/Colab Notebooks/Datasets/Lung Sound Files/Bronchiolitis'\n",
        "output_dir = '/content/drive/MyDrive/Colab Notebooks/Datasets/Lung Sound Files Dataset/Bronchiolitis'\n",
        "\n",
        "# Create the output directory if it doesn't exist\n",
        "os.makedirs(output_dir, exist_ok=True)\n",
        "\n",
        "# Define the length of each segment (6 seconds)\n",
        "segment_length_ms = 6 * 1000  # pydub works in milliseconds\n",
        "\n",
        "# Loop through all audio files in the input directory\n",
        "for filename in os.listdir(input_dir):\n",
        "    if filename.endswith('.wav'):  # Ensure you're only working with .wav files\n",
        "        audio = AudioSegment.from_wav(os.path.join(input_dir, filename))\n",
        "\n",
        "        # Convert to stereo if it's not\n",
        "        if audio.channels != 2:\n",
        "            audio = audio.set_channels(2)\n",
        "\n",
        "        # Resample to 44,100 Hz if needed\n",
        "        if audio.frame_rate != 44100:\n",
        "            audio = audio.set_frame_rate(44100)\n",
        "\n",
        "        # Set the sample width (bit depth) to 16-bit\n",
        "        audio = audio.set_sample_width(2)  # 16-bit audio has a sample width of 2 bytes\n",
        "\n",
        "        # Split the audio into 6-second segments\n",
        "        for i in range(0, len(audio), segment_length_ms):\n",
        "            segment = audio[i:i + segment_length_ms]\n",
        "\n",
        "            # If the segment is shorter than 6 seconds, pad it with silence\n",
        "            if len(segment) < segment_length_ms:\n",
        "                silence_padding = AudioSegment.silent(duration=segment_length_ms - len(segment))\n",
        "                segment += silence_padding\n",
        "\n",
        "            # Save each segment\n",
        "            segment_filename = f\"{os.path.splitext(filename)[0]}_segment_{i // segment_length_ms}.wav\"\n",
        "            segment.export(os.path.join(output_dir, segment_filename), format='wav')\n",
        "\n",
        "print(\"Segmentation completed with padding for shorter segments.\")\n"
      ],
      "metadata": {
        "colab": {
          "base_uri": "https://localhost:8080/"
        },
        "id": "5TP5iregK4eT",
        "outputId": "bc71b650-3d65-47ea-a035-374ca8ef6778"
      },
      "execution_count": null,
      "outputs": [
        {
          "output_type": "stream",
          "name": "stdout",
          "text": [
            "Segmentation completed with padding for shorter segments.\n"
          ]
        }
      ]
    },
    {
      "cell_type": "code",
      "source": [
        "from pydub import AudioSegment\n",
        "import os\n",
        "\n",
        "# Path to the directory containing the audio files\n",
        "input_dir = '/content/drive/MyDrive/Colab Notebooks/Datasets/Lung Sound Files/Bronchitis'\n",
        "output_dir = '/content/drive/MyDrive/Colab Notebooks/Datasets/Lung Sound Files Dataset/Bronchitis'\n",
        "\n",
        "# Create the output directory if it doesn't exist\n",
        "os.makedirs(output_dir, exist_ok=True)\n",
        "\n",
        "# Define the length of each segment (6 seconds)\n",
        "segment_length_ms = 6 * 1000  # pydub works in milliseconds\n",
        "\n",
        "# Loop through all audio files in the input directory\n",
        "for filename in os.listdir(input_dir):\n",
        "    if filename.endswith('.wav'):  # Ensure you're only working with .wav files\n",
        "        audio = AudioSegment.from_wav(os.path.join(input_dir, filename))\n",
        "\n",
        "        # Convert to stereo if it's not\n",
        "        if audio.channels != 2:\n",
        "            audio = audio.set_channels(2)\n",
        "\n",
        "        # Resample to 44,100 Hz if needed\n",
        "        if audio.frame_rate != 44100:\n",
        "            audio = audio.set_frame_rate(44100)\n",
        "\n",
        "        # Set the sample width (bit depth) to 16-bit\n",
        "        audio = audio.set_sample_width(2)  # 16-bit audio has a sample width of 2 bytes\n",
        "\n",
        "        # Split the audio into 6-second segments\n",
        "        for i in range(0, len(audio), segment_length_ms):\n",
        "            segment = audio[i:i + segment_length_ms]\n",
        "\n",
        "            # If the segment is shorter than 6 seconds, pad it with silence\n",
        "            if len(segment) < segment_length_ms:\n",
        "                silence_padding = AudioSegment.silent(duration=segment_length_ms - len(segment))\n",
        "                segment += silence_padding\n",
        "\n",
        "            # Save each segment\n",
        "            segment_filename = f\"{os.path.splitext(filename)[0]}_segment_{i // segment_length_ms}.wav\"\n",
        "            segment.export(os.path.join(output_dir, segment_filename), format='wav')\n",
        "\n",
        "print(\"Segmentation completed with padding for shorter segments.\")\n"
      ],
      "metadata": {
        "colab": {
          "base_uri": "https://localhost:8080/"
        },
        "id": "XUYg32eTOVt7",
        "outputId": "e97f98d5-92ca-4e89-ecd5-976c9128e71b"
      },
      "execution_count": null,
      "outputs": [
        {
          "output_type": "stream",
          "name": "stdout",
          "text": [
            "Segmentation completed with padding for shorter segments.\n"
          ]
        }
      ]
    },
    {
      "cell_type": "code",
      "source": [
        "from pydub import AudioSegment\n",
        "import os\n",
        "\n",
        "# Path to the directory containing the audio files\n",
        "input_dir = '/content/drive/MyDrive/Colab Notebooks/Datasets/Lung Sound Files/COPD'\n",
        "output_dir = '/content/drive/MyDrive/Colab Notebooks/Datasets/Lung Sound Files Dataset/COPD'\n",
        "\n",
        "# Create the output directory if it doesn't exist\n",
        "os.makedirs(output_dir, exist_ok=True)\n",
        "\n",
        "# Define the length of each segment (6 seconds)\n",
        "segment_length_ms = 6 * 1000  # pydub works in milliseconds\n",
        "\n",
        "# Loop through all audio files in the input directory\n",
        "for filename in os.listdir(input_dir):\n",
        "    if filename.endswith('.wav'):  # Ensure you're only working with .wav files\n",
        "        audio = AudioSegment.from_wav(os.path.join(input_dir, filename))\n",
        "\n",
        "        # Convert to stereo if it's not\n",
        "        if audio.channels != 2:\n",
        "            audio = audio.set_channels(2)\n",
        "\n",
        "        # Resample to 44,100 Hz if needed\n",
        "        if audio.frame_rate != 44100:\n",
        "            audio = audio.set_frame_rate(44100)\n",
        "\n",
        "        # Set the sample width (bit depth) to 16-bit\n",
        "        audio = audio.set_sample_width(2)  # 16-bit audio has a sample width of 2 bytes\n",
        "\n",
        "        # Split the audio into 6-second segments\n",
        "        for i in range(0, len(audio), segment_length_ms):\n",
        "            segment = audio[i:i + segment_length_ms]\n",
        "\n",
        "            # If the segment is shorter than 6 seconds, pad it with silence\n",
        "            if len(segment) < segment_length_ms:\n",
        "                silence_padding = AudioSegment.silent(duration=segment_length_ms - len(segment))\n",
        "                segment += silence_padding\n",
        "\n",
        "            # Save each segment\n",
        "            segment_filename = f\"{os.path.splitext(filename)[0]}_segment_{i // segment_length_ms}.wav\"\n",
        "            segment.export(os.path.join(output_dir, segment_filename), format='wav')\n",
        "\n",
        "print(\"Segmentation completed with padding for shorter segments.\")\n"
      ],
      "metadata": {
        "colab": {
          "base_uri": "https://localhost:8080/"
        },
        "id": "v_IzjyTUPQ0Z",
        "outputId": "eaf238c5-ce4d-48c9-fe10-9374966570bc"
      },
      "execution_count": null,
      "outputs": [
        {
          "output_type": "stream",
          "name": "stdout",
          "text": [
            "Segmentation completed with padding for shorter segments.\n"
          ]
        }
      ]
    },
    {
      "cell_type": "code",
      "source": [
        "from pydub import AudioSegment\n",
        "import os\n",
        "\n",
        "# Path to the directory containing the audio files\n",
        "input_dir = '/content/drive/MyDrive/Colab Notebooks/Datasets/Lung Sound Files/Healthy'\n",
        "output_dir = '/content/drive/MyDrive/Colab Notebooks/Datasets/Lung Sound Files Dataset/Healthy'\n",
        "\n",
        "# Create the output directory if it doesn't exist\n",
        "os.makedirs(output_dir, exist_ok=True)\n",
        "\n",
        "# Define the length of each segment (6 seconds)\n",
        "segment_length_ms = 6 * 1000  # pydub works in milliseconds\n",
        "\n",
        "# Loop through all audio files in the input directory\n",
        "for filename in os.listdir(input_dir):\n",
        "    if filename.endswith('.wav'):  # Ensure you're only working with .wav files\n",
        "        audio = AudioSegment.from_wav(os.path.join(input_dir, filename))\n",
        "\n",
        "        # Convert to stereo if it's not\n",
        "        if audio.channels != 2:\n",
        "            audio = audio.set_channels(2)\n",
        "\n",
        "        # Resample to 44,100 Hz if needed\n",
        "        if audio.frame_rate != 44100:\n",
        "            audio = audio.set_frame_rate(44100)\n",
        "\n",
        "        # Set the sample width (bit depth) to 16-bit\n",
        "        audio = audio.set_sample_width(2)  # 16-bit audio has a sample width of 2 bytes\n",
        "\n",
        "        # Split the audio into 6-second segments\n",
        "        for i in range(0, len(audio), segment_length_ms):\n",
        "            segment = audio[i:i + segment_length_ms]\n",
        "\n",
        "            # If the segment is shorter than 6 seconds, pad it with silence\n",
        "            if len(segment) < segment_length_ms:\n",
        "                silence_padding = AudioSegment.silent(duration=segment_length_ms - len(segment))\n",
        "                segment += silence_padding\n",
        "\n",
        "            # Save each segment\n",
        "            segment_filename = f\"{os.path.splitext(filename)[0]}_segment_{i // segment_length_ms}.wav\"\n",
        "            segment.export(os.path.join(output_dir, segment_filename), format='wav')\n",
        "\n",
        "print(\"Segmentation completed with padding for shorter segments.\")\n"
      ],
      "metadata": {
        "colab": {
          "base_uri": "https://localhost:8080/"
        },
        "id": "JU1tFu8FPaxG",
        "outputId": "44a9ce1e-4b01-41c4-bbf4-4634222aea95"
      },
      "execution_count": null,
      "outputs": [
        {
          "output_type": "stream",
          "name": "stdout",
          "text": [
            "Segmentation completed with padding for shorter segments.\n"
          ]
        }
      ]
    },
    {
      "cell_type": "code",
      "source": [
        "from pydub import AudioSegment\n",
        "import os\n",
        "\n",
        "# Path to the directory containing the audio files\n",
        "input_dir = '/content/drive/MyDrive/Colab Notebooks/Datasets/Lung Sound Files/Lung Fibrosis'\n",
        "output_dir = '/content/drive/MyDrive/Colab Notebooks/Datasets/Lung Sound Files Dataset/Lung Fibrosis'\n",
        "\n",
        "# Create the output directory if it doesn't exist\n",
        "os.makedirs(output_dir, exist_ok=True)\n",
        "\n",
        "# Define the length of each segment (6 seconds)\n",
        "segment_length_ms = 6 * 1000  # pydub works in milliseconds\n",
        "\n",
        "# Loop through all audio files in the input directory\n",
        "for filename in os.listdir(input_dir):\n",
        "    if filename.endswith('.wav'):  # Ensure you're only working with .wav files\n",
        "        audio = AudioSegment.from_wav(os.path.join(input_dir, filename))\n",
        "\n",
        "        # Convert to stereo if it's not\n",
        "        if audio.channels != 2:\n",
        "            audio = audio.set_channels(2)\n",
        "\n",
        "        # Resample to 44,100 Hz if needed\n",
        "        if audio.frame_rate != 44100:\n",
        "            audio = audio.set_frame_rate(44100)\n",
        "\n",
        "        # Set the sample width (bit depth) to 16-bit\n",
        "        audio = audio.set_sample_width(2)  # 16-bit audio has a sample width of 2 bytes\n",
        "\n",
        "        # Split the audio into 6-second segments\n",
        "        for i in range(0, len(audio), segment_length_ms):\n",
        "            segment = audio[i:i + segment_length_ms]\n",
        "\n",
        "            # If the segment is shorter than 6 seconds, pad it with silence\n",
        "            if len(segment) < segment_length_ms:\n",
        "                silence_padding = AudioSegment.silent(duration=segment_length_ms - len(segment))\n",
        "                segment += silence_padding\n",
        "\n",
        "            # Save each segment\n",
        "            segment_filename = f\"{os.path.splitext(filename)[0]}_segment_{i // segment_length_ms}.wav\"\n",
        "            segment.export(os.path.join(output_dir, segment_filename), format='wav')\n",
        "\n",
        "print(\"Segmentation completed with padding for shorter segments.\")\n"
      ],
      "metadata": {
        "colab": {
          "base_uri": "https://localhost:8080/"
        },
        "id": "G-aaUUBzPsYf",
        "outputId": "f7027ff9-f8b6-4e7c-e68c-9ce9260e232b"
      },
      "execution_count": null,
      "outputs": [
        {
          "output_type": "stream",
          "name": "stdout",
          "text": [
            "Segmentation completed with padding for shorter segments.\n"
          ]
        }
      ]
    },
    {
      "cell_type": "code",
      "source": [
        "from pydub import AudioSegment\n",
        "import os\n",
        "\n",
        "# Path to the directory containing the audio files\n",
        "input_dir = '/content/drive/MyDrive/Colab Notebooks/Datasets/Lung Sound Files/Plueral Effusion'\n",
        "output_dir = '/content/drive/MyDrive/Colab Notebooks/Datasets/Lung Sound Files Dataset/Plueral Effusion'\n",
        "\n",
        "# Create the output directory if it doesn't exist\n",
        "os.makedirs(output_dir, exist_ok=True)\n",
        "\n",
        "# Define the length of each segment (6 seconds)\n",
        "segment_length_ms = 6 * 1000  # pydub works in milliseconds\n",
        "\n",
        "# Loop through all audio files in the input directory\n",
        "for filename in os.listdir(input_dir):\n",
        "    if filename.endswith('.wav'):  # Ensure you're only working with .wav files\n",
        "        audio = AudioSegment.from_wav(os.path.join(input_dir, filename))\n",
        "\n",
        "        # Convert to stereo if it's not\n",
        "        if audio.channels != 2:\n",
        "            audio = audio.set_channels(2)\n",
        "\n",
        "        # Resample to 44,100 Hz if needed\n",
        "        if audio.frame_rate != 44100:\n",
        "            audio = audio.set_frame_rate(44100)\n",
        "\n",
        "        # Set the sample width (bit depth) to 16-bit\n",
        "        audio = audio.set_sample_width(2)  # 16-bit audio has a sample width of 2 bytes\n",
        "\n",
        "        # Split the audio into 6-second segments\n",
        "        for i in range(0, len(audio), segment_length_ms):\n",
        "            segment = audio[i:i + segment_length_ms]\n",
        "\n",
        "            # If the segment is shorter than 6 seconds, pad it with silence\n",
        "            if len(segment) < segment_length_ms:\n",
        "                silence_padding = AudioSegment.silent(duration=segment_length_ms - len(segment))\n",
        "                segment += silence_padding\n",
        "\n",
        "            # Save each segment\n",
        "            segment_filename = f\"{os.path.splitext(filename)[0]}_segment_{i // segment_length_ms}.wav\"\n",
        "            segment.export(os.path.join(output_dir, segment_filename), format='wav')\n",
        "\n",
        "print(\"Segmentation completed with padding for shorter segments.\")\n"
      ],
      "metadata": {
        "colab": {
          "base_uri": "https://localhost:8080/"
        },
        "id": "FBbGq3SCPxng",
        "outputId": "217f2739-d05b-42e5-bfb8-46210c996a3e"
      },
      "execution_count": null,
      "outputs": [
        {
          "output_type": "stream",
          "name": "stdout",
          "text": [
            "Segmentation completed with padding for shorter segments.\n"
          ]
        }
      ]
    },
    {
      "cell_type": "code",
      "source": [
        "from pydub import AudioSegment\n",
        "import os\n",
        "\n",
        "# Path to the directory containing the audio files\n",
        "input_dir = '/content/drive/MyDrive/Colab Notebooks/Datasets/Lung Sound Files/Pneumonia'\n",
        "output_dir = '/content/drive/MyDrive/Colab Notebooks/Datasets/Lung Sound Files Dataset/Pneumonia'\n",
        "\n",
        "# Create the output directory if it doesn't exist\n",
        "os.makedirs(output_dir, exist_ok=True)\n",
        "\n",
        "# Define the length of each segment (6 seconds)\n",
        "segment_length_ms = 6 * 1000  # pydub works in milliseconds\n",
        "\n",
        "# Loop through all audio files in the input directory\n",
        "for filename in os.listdir(input_dir):\n",
        "    if filename.endswith('.wav'):  # Ensure you're only working with .wav files\n",
        "        audio = AudioSegment.from_wav(os.path.join(input_dir, filename))\n",
        "\n",
        "        # Convert to stereo if it's not\n",
        "        if audio.channels != 2:\n",
        "            audio = audio.set_channels(2)\n",
        "\n",
        "        # Resample to 44,100 Hz if needed\n",
        "        if audio.frame_rate != 44100:\n",
        "            audio = audio.set_frame_rate(44100)\n",
        "\n",
        "        # Set the sample width (bit depth) to 16-bit\n",
        "        audio = audio.set_sample_width(2)  # 16-bit audio has a sample width of 2 bytes\n",
        "\n",
        "        # Split the audio into 6-second segments\n",
        "        for i in range(0, len(audio), segment_length_ms):\n",
        "            segment = audio[i:i + segment_length_ms]\n",
        "\n",
        "            # If the segment is shorter than 6 seconds, pad it with silence\n",
        "            if len(segment) < segment_length_ms:\n",
        "                silence_padding = AudioSegment.silent(duration=segment_length_ms - len(segment))\n",
        "                segment += silence_padding\n",
        "\n",
        "            # Save each segment\n",
        "            segment_filename = f\"{os.path.splitext(filename)[0]}_segment_{i // segment_length_ms}.wav\"\n",
        "            segment.export(os.path.join(output_dir, segment_filename), format='wav')\n",
        "\n",
        "print(\"Segmentation completed with padding for shorter segments.\")\n"
      ],
      "metadata": {
        "colab": {
          "base_uri": "https://localhost:8080/"
        },
        "id": "RdOxalyDP50G",
        "outputId": "2fdc1f06-7275-4ede-abab-9bac7a28b9d5"
      },
      "execution_count": null,
      "outputs": [
        {
          "output_type": "stream",
          "name": "stdout",
          "text": [
            "Segmentation completed with padding for shorter segments.\n"
          ]
        }
      ]
    },
    {
      "cell_type": "code",
      "source": [
        "from pydub import AudioSegment\n",
        "import os\n",
        "\n",
        "# Path to the directory containing the audio files\n",
        "input_dir = '/content/drive/MyDrive/Colab Notebooks/Datasets/Lung Sound Files/URTI'\n",
        "output_dir = '/content/drive/MyDrive/Colab Notebooks/Datasets/Lung Sound Files Dataset/URTI'\n",
        "\n",
        "# Create the output directory if it doesn't exist\n",
        "os.makedirs(output_dir, exist_ok=True)\n",
        "\n",
        "# Define the length of each segment (6 seconds)\n",
        "segment_length_ms = 6 * 1000  # pydub works in milliseconds\n",
        "\n",
        "# Loop through all audio files in the input directory\n",
        "for filename in os.listdir(input_dir):\n",
        "    if filename.endswith('.wav'):  # Ensure you're only working with .wav files\n",
        "        audio = AudioSegment.from_wav(os.path.join(input_dir, filename))\n",
        "\n",
        "        # Convert to stereo if it's not\n",
        "        if audio.channels != 2:\n",
        "            audio = audio.set_channels(2)\n",
        "\n",
        "        # Resample to 44,100 Hz if needed\n",
        "        if audio.frame_rate != 44100:\n",
        "            audio = audio.set_frame_rate(44100)\n",
        "\n",
        "        # Set the sample width (bit depth) to 16-bit\n",
        "        audio = audio.set_sample_width(2)  # 16-bit audio has a sample width of 2 bytes\n",
        "\n",
        "        # Split the audio into 6-second segments\n",
        "        for i in range(0, len(audio), segment_length_ms):\n",
        "            segment = audio[i:i + segment_length_ms]\n",
        "\n",
        "            # If the segment is shorter than 6 seconds, pad it with silence\n",
        "            if len(segment) < segment_length_ms:\n",
        "                silence_padding = AudioSegment.silent(duration=segment_length_ms - len(segment))\n",
        "                segment += silence_padding\n",
        "\n",
        "            # Save each segment\n",
        "            segment_filename = f\"{os.path.splitext(filename)[0]}_segment_{i // segment_length_ms}.wav\"\n",
        "            segment.export(os.path.join(output_dir, segment_filename), format='wav')\n",
        "\n",
        "print(\"Segmentation completed with padding for shorter segments.\")\n"
      ],
      "metadata": {
        "colab": {
          "base_uri": "https://localhost:8080/"
        },
        "id": "fT7OPqRoQAG_",
        "outputId": "1e54b9dc-761f-41a0-cdbd-9c81027ffaa9"
      },
      "execution_count": null,
      "outputs": [
        {
          "output_type": "stream",
          "name": "stdout",
          "text": [
            "Segmentation completed with padding for shorter segments.\n"
          ]
        }
      ]
    },
    {
      "cell_type": "markdown",
      "source": [
        "### Counts Of audio files in each an every folders"
      ],
      "metadata": {
        "id": "VwldyN3eVJWS"
      }
    },
    {
      "cell_type": "code",
      "source": [
        "import os"
      ],
      "metadata": {
        "id": "WnBxt-H_TaN1"
      },
      "execution_count": null,
      "outputs": []
    },
    {
      "cell_type": "code",
      "source": [
        "# List of folder paths\n",
        "folders = [\n",
        "    '/content/drive/MyDrive/Colab Notebooks/Datasets/Lung Sound Files Dataset/Asthma',\n",
        "    '/content/drive/MyDrive/Colab Notebooks/Datasets/Lung Sound Files Dataset/Bronchiectasis',\n",
        "    '/content/drive/MyDrive/Colab Notebooks/Datasets/Lung Sound Files Dataset/Bronchiolitis',\n",
        "    '/content/drive/MyDrive/Colab Notebooks/Datasets/Lung Sound Files Dataset/Bronchitis',\n",
        "    '/content/drive/MyDrive/Colab Notebooks/Datasets/Lung Sound Files Dataset/COPD',\n",
        "    '/content/drive/MyDrive/Colab Notebooks/Datasets/Lung Sound Files Dataset/Healthy',\n",
        "    '/content/drive/MyDrive/Colab Notebooks/Datasets/Lung Sound Files Dataset/Lung Fibrosis',\n",
        "    '/content/drive/MyDrive/Colab Notebooks/Datasets/Lung Sound Files Dataset/Plueral Effusion',\n",
        "    '/content/drive/MyDrive/Colab Notebooks/Datasets/Lung Sound Files Dataset/Pneumonia',\n",
        "    '/content/drive/MyDrive/Colab Notebooks/Datasets/Lung Sound Files Dataset/URTI'\n",
        "]"
      ],
      "metadata": {
        "id": "je1CAvs2U1NX"
      },
      "execution_count": null,
      "outputs": []
    },
    {
      "cell_type": "code",
      "source": [
        "# Loop through each folder and count the number of .wav files\n",
        "for folder in folders:\n",
        "    if os.path.exists(folder):\n",
        "        count = len([f for f in os.listdir(folder) if f.endswith('.wav')])\n",
        "        folder_name = os.path.basename(folder)  # Get the folder name (like Asthma, COPD, etc.)\n",
        "        print(f\"Folder: {folder_name}, Count: {count}\")\n",
        "    else:\n",
        "        print(f\"Folder: {folder} does not exist!\")"
      ],
      "metadata": {
        "colab": {
          "base_uri": "https://localhost:8080/"
        },
        "id": "Z-bPTA0AU9rO",
        "outputId": "762b5659-9934-4d1f-968c-73cff9e4ae86"
      },
      "execution_count": null,
      "outputs": [
        {
          "output_type": "stream",
          "name": "stdout",
          "text": [
            "Folder: Asthma, Count: 319\n",
            "Folder: Bronchiectasis, Count: 64\n",
            "Folder: Bronchiolitis, Count: 52\n",
            "Folder: Bronchitis, Count: 24\n",
            "Folder: COPD, Count: 3471\n",
            "Folder: Healthy, Count: 517\n",
            "Folder: Lung Fibrosis, Count: 41\n",
            "Folder: Plueral Effusion, Count: 27\n",
            "Folder: Pneumonia, Count: 187\n",
            "Folder: URTI, Count: 92\n"
          ]
        }
      ]
    },
    {
      "cell_type": "code",
      "source": [],
      "metadata": {
        "id": "apbSaOn9VANi"
      },
      "execution_count": null,
      "outputs": []
    }
  ]
}
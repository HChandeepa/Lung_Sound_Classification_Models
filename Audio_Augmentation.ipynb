{
  "nbformat": 4,
  "nbformat_minor": 0,
  "metadata": {
    "colab": {
      "provenance": [],
      "mount_file_id": "1nJBZuwdZkYkX3dm4K66F0XuWOHvPRs0k",
      "authorship_tag": "ABX9TyPVmGk8phV5P3F0wFVvRtj8",
      "include_colab_link": true
    },
    "kernelspec": {
      "name": "python3",
      "display_name": "Python 3"
    },
    "language_info": {
      "name": "python"
    }
  },
  "cells": [
    {
      "cell_type": "markdown",
      "metadata": {
        "id": "view-in-github",
        "colab_type": "text"
      },
      "source": [
        "<a href=\"https://colab.research.google.com/github/HChandeepa/Lung_Sound_Classification_System/blob/Master/Audio_Augmentation.ipynb\" target=\"_parent\"><img src=\"https://colab.research.google.com/assets/colab-badge.svg\" alt=\"Open In Colab\"/></a>"
      ]
    },
    {
      "cell_type": "markdown",
      "source": [
        "Import Datasets"
      ],
      "metadata": {
        "id": "9qVVKy3AhsoX"
      }
    },
    {
      "cell_type": "code",
      "source": [
        "from google.colab import drive\n",
        "drive.mount('/content/drive')"
      ],
      "metadata": {
        "colab": {
          "base_uri": "https://localhost:8080/"
        },
        "id": "AidfBzp2_XN8",
        "outputId": "8d618692-b85a-4747-d0c1-4b69a04ce1e5"
      },
      "execution_count": null,
      "outputs": [
        {
          "output_type": "stream",
          "name": "stdout",
          "text": [
            "Drive already mounted at /content/drive; to attempt to forcibly remount, call drive.mount(\"/content/drive\", force_remount=True).\n"
          ]
        }
      ]
    },
    {
      "cell_type": "code",
      "source": [
        "import os\n",
        "\n",
        "# List of folder paths\n",
        "folder_paths = [\n",
        "    '/content/drive/MyDrive/Colab Notebooks/Datasets/Lung Sounds Dataset/Asthma',\n",
        "    '/content/drive/MyDrive/Colab Notebooks/Datasets/Lung Sounds Dataset/Bronchiectasis',\n",
        "    '/content/drive/MyDrive/Colab Notebooks/Datasets/Lung Sounds Dataset/Bronchiolitis',\n",
        "    '/content/drive/MyDrive/Colab Notebooks/Datasets/Lung Sounds Dataset/Bronchitis',\n",
        "    '/content/drive/MyDrive/Colab Notebooks/Datasets/Lung Sounds Dataset/COPD',\n",
        "    '/content/drive/MyDrive/Colab Notebooks/Datasets/Lung Sounds Dataset/Healthy',\n",
        "    '/content/drive/MyDrive/Colab Notebooks/Datasets/Lung Sounds Dataset/Lung Fibrosis',\n",
        "    '/content/drive/MyDrive/Colab Notebooks/Datasets/Lung Sounds Dataset/Plueral Effusion',\n",
        "    '/content/drive/MyDrive/Colab Notebooks/Datasets/Lung Sounds Dataset/Pneumonia',\n",
        "    '/content/drive/MyDrive/Colab Notebooks/Datasets/Lung Sounds Dataset/URTI'\n",
        "]\n",
        "\n",
        "# Loop through each folder path and calculate the number of .wav files\n",
        "for folder_path in folder_paths:\n",
        "    # List all .wav files in the folder\n",
        "    wav_files = [file for file in os.listdir(folder_path) if file.endswith('.wav')]\n",
        "\n",
        "    # Count the number of .wav files\n",
        "    num_wav_files = len(wav_files)\n",
        "\n",
        "    # Print the result\n",
        "    print(f'Number of .wav files in the folder {os.path.basename(folder_path)}: {num_wav_files}')\n"
      ],
      "metadata": {
        "colab": {
          "base_uri": "https://localhost:8080/"
        },
        "id": "OflQ3YIUA4J_",
        "outputId": "0035576a-b689-4594-8bcf-235b25015438"
      },
      "execution_count": null,
      "outputs": [
        {
          "output_type": "stream",
          "name": "stdout",
          "text": [
            "Number of .wav files in the folder Asthma: 414\n",
            "Number of .wav files in the folder Bronchiectasis: 64\n",
            "Number of .wav files in the folder Bronchiolitis: 52\n",
            "Number of .wav files in the folder Bronchitis: 24\n",
            "Number of .wav files in the folder COPD: 3471\n",
            "Number of .wav files in the folder Healthy: 422\n",
            "Number of .wav files in the folder Lung Fibrosis: 41\n",
            "Number of .wav files in the folder Plueral Effusion: 27\n",
            "Number of .wav files in the folder Pneumonia: 192\n",
            "Number of .wav files in the folder URTI: 92\n"
          ]
        }
      ]
    },
    {
      "cell_type": "code",
      "source": [
        "import librosa\n",
        "import soundfile as sf\n",
        "import numpy as np\n",
        "import matplotlib.pyplot as plt"
      ],
      "metadata": {
        "id": "o1w5IuvwBgjq"
      },
      "execution_count": null,
      "outputs": []
    },
    {
      "cell_type": "code",
      "source": [
        "audio_file  = '/content/drive/MyDrive/Colab Notebooks/Datasets/Lung Sounds Dataset/Plueral Effusion/BP6_Plueral Effusion,I C B,P L R,81,M_segment_0.wav'"
      ],
      "metadata": {
        "id": "ph2PAbfLFreP"
      },
      "execution_count": null,
      "outputs": []
    },
    {
      "cell_type": "code",
      "source": [
        "y, sr = librosa.load(audio_file)"
      ],
      "metadata": {
        "id": "I1gS8NmyGarL"
      },
      "execution_count": null,
      "outputs": []
    },
    {
      "cell_type": "code",
      "source": [
        "#Apply a pitch shift of 1 seminote\n",
        "n_steps = 1\n",
        "y_shifted = librosa.effects.pitch_shift(y, sr = sr, n_steps=n_steps)"
      ],
      "metadata": {
        "id": "CR_IL8N5GgXG"
      },
      "execution_count": null,
      "outputs": []
    },
    {
      "cell_type": "code",
      "source": [
        "sf.write('BP6_Plueral Effusion,I C B,P L R,81,M_segment_0_0.wav', y_shifted, sr)"
      ],
      "metadata": {
        "id": "qX4vDAEdG1kz"
      },
      "execution_count": null,
      "outputs": []
    },
    {
      "cell_type": "code",
      "source": [
        "import librosa.display"
      ],
      "metadata": {
        "id": "trls6uBbHBi1"
      },
      "execution_count": null,
      "outputs": []
    },
    {
      "cell_type": "code",
      "source": [
        "plt.figure(figsize=(14, 5))\n",
        "plt.subplot(2, 2, 1)\n",
        "librosa.display.waveshow(y, sr=sr)\n",
        "plt.show()"
      ],
      "metadata": {
        "colab": {
          "base_uri": "https://localhost:8080/",
          "height": 255
        },
        "id": "rzeE9_xBHL85",
        "outputId": "8ee721b4-9667-4cd9-d225-b6ca1928ad99"
      },
      "execution_count": null,
      "outputs": [
        {
          "output_type": "display_data",
          "data": {
            "text/plain": [
              "<Figure size 1400x500 with 1 Axes>"
            ],
            "image/png": "[encoded data removed]"
          },
          "metadata": {}
        }
      ]
    },
    {
      "cell_type": "code",
      "source": [
        "plt.subplot(2, 1, 2)\n",
        "librosa.display.waveshow(y_shifted, sr=sr)\n",
        "plt.title('Pitch-Shifted Audio (Up 1 Semitone)')\n",
        "\n",
        "plt.tight_layout()\n",
        "plt.show()"
      ],
      "metadata": {
        "id": "Ng67wYKyHiVk",
        "outputId": "401e97a7-28a1-4c8c-ce1d-9b3d130a0d76",
        "colab": {
          "base_uri": "https://localhost:8080/",
          "height": 287
        }
      },
      "execution_count": null,
      "outputs": [
        {
          "output_type": "display_data",
          "data": {
            "text/plain": [
              "<Figure size 640x480 with 1 Axes>"
            ],
            "image/png": "[encoded data removed]"
          },
          "metadata": {}
        }
      ]
    },
    {
      "cell_type": "code",
      "source": [
        "import librosa\n",
        "import os\n",
        "import random\n",
        "import soundfile as sf"
      ],
      "metadata": {
        "id": "ePY5RAW5HjPc"
      },
      "execution_count": null,
      "outputs": []
    },
    {
      "cell_type": "code",
      "source": [
        "def pitch_shift(audio_file, output_file, sr=22050, n_steps=1):\n",
        "  y, sr = librosa.load(audio_file,sr=sr)\n",
        "  y_shifted = librosa.effects.pitch_shift(y, sr=sr, n_steps=n_steps)\n",
        "  sf.write(output_file, y_shifted, sr)  # Use soundfile to write the audio file\n",
        "\n",
        "def augment_samples(directory,target_count):\n",
        "  files = os.listdir(directory)\n",
        "  current_count = len(files)\n",
        "\n",
        "  while current_count < target_count:\n",
        "    files_to_augment = random.choice(files)\n",
        "    base_name, ext = os.path.splitext(files_to_augment)\n",
        "    augmented_file = os.path.join(directory, f\"{base_name}_aug{current_count}{ext}\")\n",
        "\n",
        "    pitch_shift(os.path.join(directory, files_to_augment), augmented_file)\n",
        "\n",
        "    current_count+=1\n"
      ],
      "metadata": {
        "id": "tUJyseeR0Osl"
      },
      "execution_count": null,
      "outputs": []
    },
    {
      "cell_type": "code",
      "source": [
        "augment_samples('/content/drive/MyDrive/Colab Notebooks/Datasets/Lung Sounds Dataset/Bronchiectasis', 120)"
      ],
      "metadata": {
        "id": "X6gRmLvF44U0"
      },
      "execution_count": null,
      "outputs": []
    },
    {
      "cell_type": "code",
      "source": [
        "augment_samples('/content/drive/MyDrive/Colab Notebooks/Datasets/Lung Sounds Dataset/Bronchiolitis', 150)"
      ],
      "metadata": {
        "id": "CAWR5JStRhCH"
      },
      "execution_count": null,
      "outputs": []
    },
    {
      "cell_type": "code",
      "source": [
        "augment_samples('/content/drive/MyDrive/Colab Notebooks/Datasets/Lung Sounds Dataset/URTI', 184)"
      ],
      "metadata": {
        "id": "8pPKbod9kx9D"
      },
      "execution_count": null,
      "outputs": []
    },
    {
      "cell_type": "code",
      "source": [
        "augment_samples('/content/drive/MyDrive/Colab Notebooks/Datasets/Lung Sounds Dataset/Plueral Effusion', 120)"
      ],
      "metadata": {
        "id": "2Et3q6Zgvj6L"
      },
      "execution_count": null,
      "outputs": []
    },
    {
      "cell_type": "code",
      "source": [
        "augment_samples('/content/drive/MyDrive/Colab Notebooks/Datasets/Lung Sounds Dataset/Lung Fibrosis', 115)"
      ],
      "metadata": {
        "id": "dSbwrpi7v2-h"
      },
      "execution_count": null,
      "outputs": []
    },
    {
      "cell_type": "code",
      "source": [
        "augment_samples('/content/drive/MyDrive/Colab Notebooks/Datasets/Lung Sounds Dataset/Bronchitis', 110)"
      ],
      "metadata": {
        "id": "RFBPf4FPwXxO"
      },
      "execution_count": null,
      "outputs": []
    },
    {
      "cell_type": "code",
      "source": [
        "augment_samples('/content/drive/MyDrive/Colab Notebooks/Datasets/Lung Sounds Dataset/Healthy', 1000)"
      ],
      "metadata": {
        "id": "gfYnDyB7xSXs"
      },
      "execution_count": null,
      "outputs": []
    },
    {
      "cell_type": "code",
      "source": [
        "import os\n",
        "import random\n",
        "import shutil\n",
        "\n",
        "def reduce_samples(directory, target_count):\n",
        "    files = os.listdir(directory)\n",
        "    current_count = len(files)\n",
        "\n",
        "    if current_count > target_count:\n",
        "        files_to_remove = random.sample(files, current_count - target_count)\n",
        "        for file in files_to_remove:\n",
        "            os.remove(os.path.join(directory, file))\n",
        "        print(f\"Reduced {directory} from {current_count} to {target_count} files.\")\n",
        "    else:\n",
        "        print(f\"No reduction needed for {directory}. Current count is {current_count}.\")\n"
      ],
      "metadata": {
        "id": "XpP4gk_qyQv-"
      },
      "execution_count": null,
      "outputs": []
    },
    {
      "cell_type": "code",
      "source": [
        "# Example Usage:\n",
        "reduce_samples('/content/drive/MyDrive/Colab Notebooks/Datasets/Lung Sounds Dataset/Asthma', 111)"
      ],
      "metadata": {
        "colab": {
          "base_uri": "https://localhost:8080/"
        },
        "id": "K5voN-i32Bwb",
        "outputId": "899e05b8-cdb5-4354-891e-8edfbf5b5dcc"
      },
      "execution_count": null,
      "outputs": [
        {
          "output_type": "stream",
          "name": "stdout",
          "text": [
            "Reduced /content/drive/MyDrive/Colab Notebooks/Datasets/Lung Sounds Dataset/Asthma from 414 to 111 files.\n"
          ]
        }
      ]
    },
    {
      "cell_type": "code",
      "source": [
        "reduce_samples('/content/drive/MyDrive/Colab Notebooks/Datasets/Lung Sounds Dataset/COPD', 115)"
      ],
      "metadata": {
        "colab": {
          "base_uri": "https://localhost:8080/"
        },
        "id": "FB8CZZVR2Vpe",
        "outputId": "903f21a3-3a9a-419b-a3a4-558ec46f47c8"
      },
      "execution_count": null,
      "outputs": [
        {
          "output_type": "stream",
          "name": "stdout",
          "text": [
            "Reduced /content/drive/MyDrive/Colab Notebooks/Datasets/Lung Sounds Dataset/COPD from 3471 to 115 files.\n"
          ]
        }
      ]
    },
    {
      "cell_type": "code",
      "source": [
        "reduce_samples('/content/drive/MyDrive/Colab Notebooks/Datasets/Lung Sounds Dataset/Pneumonia', 150)"
      ],
      "metadata": {
        "colab": {
          "base_uri": "https://localhost:8080/"
        },
        "id": "HZrB-bPW3zzl",
        "outputId": "53186663-6685-4856-b9c7-561b63301e40"
      },
      "execution_count": null,
      "outputs": [
        {
          "output_type": "stream",
          "name": "stdout",
          "text": [
            "Reduced /content/drive/MyDrive/Colab Notebooks/Datasets/Lung Sounds Dataset/Pneumonia from 192 to 150 files.\n"
          ]
        }
      ]
    },
    {
      "cell_type": "code",
      "source": [
        "reduce_samples('/content/drive/MyDrive/Colab Notebooks/Datasets/Lung Sounds Dataset/URTI', 110)"
      ],
      "metadata": {
        "colab": {
          "base_uri": "https://localhost:8080/"
        },
        "id": "hBSPWX-W36RI",
        "outputId": "2746e1a2-d50f-44d7-c3ef-894fadac8d81"
      },
      "execution_count": null,
      "outputs": [
        {
          "output_type": "stream",
          "name": "stdout",
          "text": [
            "Reduced /content/drive/MyDrive/Colab Notebooks/Datasets/Lung Sounds Dataset/URTI from 184 to 110 files.\n"
          ]
        }
      ]
    },
    {
      "cell_type": "code",
      "source": [
        "import librosa\n",
        "import os\n",
        "import random\n",
        "import soundfile as sf\n",
        "\n",
        "def pitch_shift(audio_file, output_file, sr=22050, n_steps=1):\n",
        "    y, sr = librosa.load(audio_file, sr=sr)\n",
        "    y_shifted = librosa.effects.pitch_shift(y, sr=sr, n_steps=n_steps)\n",
        "    sf.write(output_file, y_shifted, sr)\n",
        "\n",
        "def augment_samples(directory, target_count):\n",
        "    files = os.listdir(directory)\n",
        "    current_count = len(files)\n",
        "\n",
        "    # If the current number of files is already at or above the target, exit\n",
        "    if current_count >= target_count:\n",
        "        print(f\"Directory already contains {current_count} files, no augmentation needed.\")\n",
        "        return\n",
        "\n",
        "    while current_count < target_count:\n",
        "        file_to_augment = random.choice(files)  # Choose a random file from the directory\n",
        "        base_name, ext = os.path.splitext(file_to_augment)\n",
        "        augmented_file = os.path.join(directory, f\"{base_name}_aug{current_count}{ext}\")\n",
        "\n",
        "        pitch_shift(os.path.join(directory, file_to_augment), augmented_file)\n",
        "\n",
        "        current_count += 1  # Increment the count after saving the augmented file\n",
        "        files.append(os.path.basename(augmented_file))  # Update the list of files to include new augmented file\n",
        "\n",
        "# Example Usage: Increase to 1175 files\n",
        "augment_samples('/content/drive/MyDrive/Colab Notebooks/Datasets/Lung Sounds Dataset/Healthy', 1175)\n"
      ],
      "metadata": {
        "id": "3Q52BvFX4MjU"
      },
      "execution_count": 27,
      "outputs": []
    },
    {
      "cell_type": "code",
      "source": [
        "import os\n",
        "\n",
        "# List of folder paths\n",
        "folder_paths = [\n",
        "    '/content/drive/MyDrive/Colab Notebooks/Datasets/Lung Sounds Dataset/Asthma',\n",
        "    '/content/drive/MyDrive/Colab Notebooks/Datasets/Lung Sounds Dataset/Bronchiectasis',\n",
        "    '/content/drive/MyDrive/Colab Notebooks/Datasets/Lung Sounds Dataset/Bronchiolitis',\n",
        "    '/content/drive/MyDrive/Colab Notebooks/Datasets/Lung Sounds Dataset/Bronchitis',\n",
        "    '/content/drive/MyDrive/Colab Notebooks/Datasets/Lung Sounds Dataset/COPD',\n",
        "    '/content/drive/MyDrive/Colab Notebooks/Datasets/Lung Sounds Dataset/Healthy',\n",
        "    '/content/drive/MyDrive/Colab Notebooks/Datasets/Lung Sounds Dataset/Lung Fibrosis',\n",
        "    '/content/drive/MyDrive/Colab Notebooks/Datasets/Lung Sounds Dataset/Plueral Effusion',\n",
        "    '/content/drive/MyDrive/Colab Notebooks/Datasets/Lung Sounds Dataset/Pneumonia',\n",
        "    '/content/drive/MyDrive/Colab Notebooks/Datasets/Lung Sounds Dataset/URTI'\n",
        "]\n",
        "\n",
        "# Loop through each folder path and calculate the number of .wav files\n",
        "for folder_path in folder_paths:\n",
        "    # List all .wav files in the folder\n",
        "    wav_files = [file for file in os.listdir(folder_path) if file.endswith('.wav')]\n",
        "\n",
        "    # Count the number of .wav files\n",
        "    num_wav_files = len(wav_files)\n",
        "\n",
        "    # Print the result\n",
        "    print(f'Number of .wav files in the folder {os.path.basename(folder_path)}: {num_wav_files}')\n"
      ],
      "metadata": {
        "colab": {
          "base_uri": "https://localhost:8080/"
        },
        "id": "EYFcaXTS8ls8",
        "outputId": "b55c1967-5523-4ef5-a69e-dae9ab4f66c5"
      },
      "execution_count": 28,
      "outputs": [
        {
          "output_type": "stream",
          "name": "stdout",
          "text": [
            "Number of .wav files in the folder Asthma: 111\n",
            "Number of .wav files in the folder Bronchiectasis: 120\n",
            "Number of .wav files in the folder Bronchiolitis: 150\n",
            "Number of .wav files in the folder Bronchitis: 110\n",
            "Number of .wav files in the folder COPD: 115\n",
            "Number of .wav files in the folder Healthy: 1175\n",
            "Number of .wav files in the folder Lung Fibrosis: 115\n",
            "Number of .wav files in the folder Plueral Effusion: 120\n",
            "Number of .wav files in the folder Pneumonia: 150\n",
            "Number of .wav files in the folder URTI: 110\n"
          ]
        }
      ]
    },
    {
      "cell_type": "code",
      "source": [],
      "metadata": {
        "id": "Ff7YTKIg8wvO"
      },
      "execution_count": null,
      "outputs": []
    }
  ]
}